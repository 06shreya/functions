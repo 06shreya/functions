{
  "cells": [
    {
      "cell_type": "markdown",
      "id": "61ef8b47",
      "metadata": {
        "id": "61ef8b47"
      },
      "source": [
        "# Python Functions & Iterators/Generators — Assignment Solutions\n"
      ]
    },
    {
      "cell_type": "markdown",
      "id": "efde1ed5",
      "metadata": {
        "id": "efde1ed5"
      },
      "source": [
        "## Theory Questions"
      ]
    },
    {
      "cell_type": "markdown",
      "id": "08824569",
      "metadata": {
        "id": "08824569"
      },
      "source": [
        "### 1) Difference between a function and a method in Python"
      ]
    },
    {
      "cell_type": "markdown",
      "id": "0c756ac6",
      "metadata": {
        "id": "0c756ac6"
      },
      "source": [
        "- **Function:** A block of reusable code defined with `def` or `lambda` and called by name. It can exist at module level.\n",
        "\n",
        "-**Method**: A function that is **bound to an object** (or its class). It’s defined inside a class and receives the instance (`self`) or the class (`cls`) as the first parameter.\n",
        "\n",
        "**Example**\n",
        "\n",
        "Python\n",
        "  def add(a, b):\n",
        "\n",
        "     return a + b  # function\n",
        "\n",
        "\n",
        "  class Counter:\n",
        "\n",
        "    def increment(self, x):\n",
        "\n",
        "        return x + 1  # method (bound to instances of Counter)\"\n",
        "  "
      ]
    },
    {
      "cell_type": "markdown",
      "id": "26f5663e",
      "metadata": {
        "id": "26f5663e"
      },
      "source": [
        "### 2) Function arguments vs. parameters"
      ]
    },
    {
      "cell_type": "markdown",
      "id": "7e1d99b6",
      "metadata": {
        "id": "7e1d99b6"
      },
      "source": [
        "- **Parameters** are the variable names in a function **definition**.\n",
        "\"\n",
        "  \"- **Arguments** are the **values** you pass when you **call** the function.\n",
        "\n",
        "\"\n",
        "  \"**Example**\n",
        "\"\n",
        "  \"```python\n",
        "\"\n",
        "  \"def power(base, exp):  # base and exp are parameters\n",
        "\"\n",
        "  \"    return base ** exp\n",
        "\"\n",
        "  \"power(2, 3)  # 2 and 3 are arguments\n",
        "\"\n",
        "  \"```\n",
        "\"\n",
        "  "
      ]
    },
    {
      "cell_type": "markdown",
      "id": "4397b11b",
      "metadata": {
        "id": "4397b11b"
      },
      "source": [
        "### 3) Ways to define and call a function"
      ]
    },
    {
      "cell_type": "markdown",
      "id": "439b292b",
      "metadata": {
        "id": "439b292b"
      },
      "source": [
        "**Define:**\n",
        "\"\n",
        "  \"- `def` statement\n",
        "\"\n",
        "  \"- `lambda` (anonymous single-expression function)\n",
        "\n",
        "\"\n",
        "  \"**Call:**\n",
        "\"\n",
        "  \"- Positional arguments\n",
        "\"\n",
        "  \"- Keyword arguments\n",
        "\"\n",
        "  \"- Default arguments\n",
        "\"\n",
        "  \"- Variable-length (`*args`, `**kwargs`)\n",
        "\n",
        "\"\n",
        "  \"**Example**\n",
        "\"\n",
        "  \"```python\n",
        "\"\n",
        "  \"def greet(name, greeting=\"Hello\", /, *args, punctuation=\"!\"):\n",
        "\"\n",
        "  \"    return f\"{greeting} {name}{punctuation}\"\n",
        "\"\n",
        "  \"greet(\"Asha\")\n",
        "\"\n",
        "  \"greet(name=\"Asha\", greeting=\"Namaste\", punctuation=\".\")\n",
        "\"\n",
        "  \"adder = lambda x, y: x + y\n",
        "\"\n",
        "  \"adder(3, 4)\n",
        "\"\n",
        "  \"```\n",
        "\"\n",
        "  "
      ]
    },
    {
      "cell_type": "markdown",
      "id": "edbdb684",
      "metadata": {
        "id": "edbdb684"
      },
      "source": [
        "### 4) Purpose of the `return` statement"
      ]
    },
    {
      "cell_type": "markdown",
      "id": "fa669297",
      "metadata": {
        "id": "fa669297"
      },
      "source": [
        "`return` sends a value back to the caller and **exits** the function immediately. Without `return`, a function returns `None` by default.\n",
        "\n",
        "\"\n",
        "  \"**Example**\n",
        "\"\n",
        "  \"```python\n",
        "\"\n",
        "  \"def first_even(nums):\n",
        "\"\n",
        "  \"    for n in nums:\n",
        "\"\n",
        "  \"        if n % 2 == 0:\n",
        "\"\n",
        "  \"            return n\n",
        "\"\n",
        "  \"    return None\n",
        "\"\n",
        "  \"```\n",
        "\"\n",
        "  "
      ]
    },
    {
      "cell_type": "markdown",
      "id": "118b6469",
      "metadata": {
        "id": "118b6469"
      },
      "source": [
        "### 5) Iterators vs. iterables"
      ]
    },
    {
      "cell_type": "markdown",
      "id": "af3b66dc",
      "metadata": {
        "id": "af3b66dc"
      },
      "source": [
        "- **Iterable:** An object you can loop over (has `__iter__` that returns an iterator). Examples: lists, strings, dicts.\n",
        "\"\n",
        "  \"- **Iterator:** The **stateful** object produced by `iter(x)` that yields items via `__next__()` and raises `StopIteration` when done.\n",
        "\n",
        "**Example**\n",
        "\n",
        "  \"python\n",
        "\n",
        "  \"items = [1, 2, 3]       # iterable\n",
        "\n",
        "  \"it = iter(items)        # iterator\n",
        "\n",
        "  \"next(it), next(it), next(it)\n",
        "\n",
        "  "
      ]
    },
    {
      "cell_type": "markdown",
      "id": "2723ea89",
      "metadata": {
        "id": "2723ea89"
      },
      "source": [
        "### 6) Generators and how they are defined"
      ]
    },
    {
      "cell_type": "markdown",
      "id": "180a89df",
      "metadata": {
        "id": "180a89df"
      },
      "source": [
        "A **generator** is a special kind of iterator defined with **`yield`** in a function body or via a **generator expression** `(expr for x in xs)`.\n",
        "\n",
        "\"\n",
        "  \"**Example**\n",
        "\"\n",
        "  \"```python\n",
        "\"\n",
        "  \"def countdown(n):\n",
        "\"\n",
        "  \"    while n > 0:\n",
        "\"\n",
        "  \"        yield n\n",
        "\"\n",
        "  \"        n -= 1\n",
        "\"\n",
        "  \"\n",
        "\"\n",
        "  \"gen = (x*x for x in range(5))  # generator expression\n",
        "\"\n",
        "  \"```\n",
        "\"\n",
        "  "
      ]
    },
    {
      "cell_type": "markdown",
      "id": "041b8ff0",
      "metadata": {
        "id": "041b8ff0"
      },
      "source": [
        "### 7) Advantages of generators"
      ]
    },
    {
      "cell_type": "markdown",
      "id": "51a742ee",
      "metadata": {
        "id": "51a742ee"
      },
      "source": [
        "- Memory-efficient (lazy evaluation)\n",
        "\"\n",
        "  \"- Potentially faster for streaming/large data\n",
        "\"\n",
        "  \"- Natural way to express pipelines and infinite sequences\n",
        "\"\n",
        "  \"- Maintain internal state between `yield`s without a class\n",
        "\"\n",
        "  "
      ]
    },
    {
      "cell_type": "markdown",
      "id": "e583075b",
      "metadata": {
        "id": "e583075b"
      },
      "source": [
        "### 8) Lambda functions and typical use"
      ]
    },
    {
      "cell_type": "markdown",
      "id": "40fb95f5",
      "metadata": {
        "id": "40fb95f5"
      },
      "source": [
        "A **lambda** is an anonymous, single-expression function: `lambda args: expression`. Use for **short, throwaway** functions—e.g., sort keys, quick transforms.\n",
        "\n",
        "\"\n",
        "  \"**Example**\n",
        "\"\n",
        "  \"```python\n",
        "\"\n",
        "  \"pairs = [(\"a\", 3), (\"b\", 1), (\"c\", 2)]\n",
        "\"\n",
        "  \"pairs_sorted = sorted(pairs, key=lambda t: t[1])\n",
        "\"\n",
        "  \"```\n",
        "\"\n",
        "  "
      ]
    },
    {
      "cell_type": "markdown",
      "id": "90780a48",
      "metadata": {
        "id": "90780a48"
      },
      "source": [
        "### 9) Purpose and usage of `map()`"
      ]
    },
    {
      "cell_type": "markdown",
      "id": "861f3c28",
      "metadata": {
        "id": "861f3c28"
      },
      "source": [
        "`map(func, iterable, ...)` applies `func` to each item, returning a lazy map object (an iterator). Convert to list if you need materialized results.\n",
        "\n",
        "\"\n",
        "  \"**Example**\n",
        "\"\n",
        "  \"```python\n",
        "\"\n",
        "  \"nums = [1, 2, 3]\n",
        "\"\n",
        "  \"doubled = list(map(lambda x: x*2, nums))\n",
        "\"\n",
        "  \"```\n",
        "\"\n",
        "  "
      ]
    },
    {
      "cell_type": "markdown",
      "id": "50375ff1",
      "metadata": {
        "id": "50375ff1"
      },
      "source": [
        "### 10) Difference between `map()`, `reduce()`, and `filter()`"
      ]
    },
    {
      "cell_type": "markdown",
      "id": "32b6bef8",
      "metadata": {
        "id": "32b6bef8"
      },
      "source": [
        "- `map(f, xs)`: **transform** each element → same length.\n",
        "\"\n",
        "  \"- `filter(pred, xs)`: **keep** elements where predicate is `True` → length ≤ original.\n",
        "\"\n",
        "  \"- `reduce(f, xs, init?)`: **aggregate** elements into a **single** value by repeatedly combining (from `functools`).\n",
        "\n",
        "\"\n",
        "  \"**Example**\n",
        "\"\n",
        "  python\n",
        "\n",
        "  \"from functools import reduce\n",
        "\n",
        "  \"nums = [1, 2, 3, 4]\n",
        "\n",
        "  \"mapped  = list(map(lambda x: x*2, nums))         # [2, 4, 6, 8]\n",
        "\n",
        "  \"filtered = list(filter(lambda x: x%2==0, nums))  # [2, 4]\n",
        "\"\n",
        "  \"summed   = reduce(lambda a,b: a+b, nums, 0)      # 10\n",
        "\"\n",
        "  \"```\n",
        "\"\n",
        "  "
      ]
    },
    {
      "cell_type": "markdown",
      "id": "a0adbdb3",
      "metadata": {
        "id": "a0adbdb3"
      },
      "source": [
        "### 11) Internal mechanism for sum via `reduce()` on `[47, 11, 42, 13]`"
      ]
    },
    {
      "cell_type": "markdown",
      "id": "b03f35b5",
      "metadata": {
        "id": "b03f35b5"
      },
      "source": [
        "Below image shows the accumulator (`acc`) and current value (`x`) at each step.\n",
        "\n",
        "![WhatsApp Image 2025-08-27 at 12.28.09_76141540.jpg](data:image/jpeg;base64,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)  "
      ]
    },
    {
      "cell_type": "markdown",
      "id": "64d589c2",
      "metadata": {
        "id": "64d589c2"
      },
      "source": [
        "---\n",
        "\n",
        "## Practical Questions"
      ]
    },
    {
      "cell_type": "markdown",
      "id": "afbbdd8a",
      "metadata": {
        "id": "afbbdd8a"
      },
      "source": [
        "### 1) Sum of even numbers in a list"
      ]
    },
    {
      "cell_type": "code",
      "metadata": {
        "colab": {
          "base_uri": "https://localhost:8080/"
        },
        "outputId": "3acf40cb-04c1-42d6-f133-854bed1c9450",
        "id": "HbiE0I6GRRd7"
      },
      "source": [
        "def sum_of_evens(nums):\n",
        "    return sum(n for n in nums if n % 2 == 0)\n",
        "\n",
        "# Demo\n",
        "numbers = [1, 2, 3, 4, 5, 6, 7, 8, 9, 10]\n",
        "even_sum = sum_of_evens(numbers)\n",
        "print(f\"The sum of even numbers in the list is: {even_sum}\")"
      ],
      "execution_count": 29,
      "outputs": [
        {
          "output_type": "stream",
          "name": "stdout",
          "text": [
            "The sum of even numbers in the list is: 30\n"
          ]
        }
      ],
      "id": "HbiE0I6GRRd7"
    },
    {
      "cell_type": "markdown",
      "id": "861e2d64",
      "metadata": {
        "id": "861e2d64"
      },
      "source": [
        "### 2) Reverse a string"
      ]
    },
    {
      "cell_type": "code",
      "execution_count": 30,
      "id": "f3600531",
      "metadata": {
        "colab": {
          "base_uri": "https://localhost:8080/",
          "height": 36
        },
        "id": "f3600531",
        "outputId": "82a41f64-04b1-405a-d5f8-bbd6f4b20344"
      },
      "outputs": [
        {
          "output_type": "execute_result",
          "data": {
            "text/plain": [
              "'olleh'"
            ],
            "application/vnd.google.colaboratory.intrinsic+json": {
              "type": "string"
            }
          },
          "metadata": {},
          "execution_count": 30
        }
      ],
      "source": [
        "def reverse_string(s):\n",
        "    return s[::-1]\n",
        "\n",
        "# Demo\n",
        "reverse_string('hello')"
      ]
    },
    {
      "cell_type": "markdown",
      "id": "97f79453",
      "metadata": {
        "id": "97f79453"
      },
      "source": [
        "### 3) Squares of a list of integers"
      ]
    },
    {
      "cell_type": "code",
      "execution_count": 31,
      "id": "9d46d3e7",
      "metadata": {
        "colab": {
          "base_uri": "https://localhost:8080/"
        },
        "id": "9d46d3e7",
        "outputId": "e7242d6e-0323-4bf3-fe5e-87a2a9890bbf"
      },
      "outputs": [
        {
          "output_type": "execute_result",
          "data": {
            "text/plain": [
              "[1, 4, 9, 16]"
            ]
          },
          "metadata": {},
          "execution_count": 31
        }
      ],
      "source": [
        "def squares(nums):\n",
        "    return [n*n for n in nums]\n",
        "\n",
        "# Demo\n",
        "squares([1,2,3,4])"
      ]
    },
    {
      "cell_type": "markdown",
      "id": "e7c87c90",
      "metadata": {
        "id": "e7c87c90"
      },
      "source": [
        "### 4) Check primes from 1 to 200"
      ]
    },
    {
      "cell_type": "code",
      "execution_count": 32,
      "id": "51dc09af",
      "metadata": {
        "colab": {
          "base_uri": "https://localhost:8080/"
        },
        "id": "51dc09af",
        "outputId": "b882b761-862e-48d5-c03a-859a1ba6e1dd"
      },
      "outputs": [
        {
          "output_type": "execute_result",
          "data": {
            "text/plain": [
              "([2, 3, 5, 7, 11, 13, 17, 19, 23, 29, 31, 37, 41, 43, 47, 53, 59, 61, 67, 71],\n",
              " 46)"
            ]
          },
          "metadata": {},
          "execution_count": 32
        }
      ],
      "source": [
        "def is_prime(n):\n",
        "    if n < 2:\n",
        "        return False\n",
        "    if n % 2 == 0:\n",
        "        return n == 2\n",
        "    r = int(n**0.5)\n",
        "    f = 3\n",
        "    while f <= r:\n",
        "        if n % f == 0:\n",
        "            return False\n",
        "        f += 2\n",
        "    return True\n",
        "\n",
        "primes_1_to_200 = [n for n in range(1,201) if is_prime(n)]\n",
        "primes_1_to_200[:20], len(primes_1_to_200)"
      ]
    },
    {
      "cell_type": "markdown",
      "id": "3aadf493",
      "metadata": {
        "id": "3aadf493"
      },
      "source": [
        "### 5) Fibonacci iterator class (n terms)"
      ]
    },
    {
      "cell_type": "code",
      "execution_count": 33,
      "id": "392154eb",
      "metadata": {
        "colab": {
          "base_uri": "https://localhost:8080/"
        },
        "id": "392154eb",
        "outputId": "e4d56abf-400d-4caa-9242-9b16eef8a0f2"
      },
      "outputs": [
        {
          "output_type": "execute_result",
          "data": {
            "text/plain": [
              "[0, 1, 1, 2, 3, 5, 8, 13, 21, 34]"
            ]
          },
          "metadata": {},
          "execution_count": 33
        }
      ],
      "source": [
        "class Fibonacci:\n",
        "    def __init__(self, n_terms):\n",
        "        self.n = n_terms\n",
        "        self.i = 0\n",
        "        self.a, self.b = 0, 1\n",
        "    def __iter__(self):\n",
        "        return self\n",
        "    def __next__(self):\n",
        "        if self.i >= self.n:\n",
        "            raise StopIteration\n",
        "        if self.i == 0:\n",
        "            self.i += 1\n",
        "            return 0\n",
        "        if self.i == 1:\n",
        "            self.i += 1\n",
        "            return 1\n",
        "        self.a, self.b = self.b, self.a + self.b\n",
        "        self.i += 1\n",
        "        return self.b\n",
        "\n",
        "list(Fibonacci(10))"
      ]
    },
    {
      "cell_type": "markdown",
      "id": "fb1ff947",
      "metadata": {
        "id": "fb1ff947"
      },
      "source": [
        "### 6) Generator for powers of 2 up to exponent `e` (inclusive)"
      ]
    },
    {
      "cell_type": "code",
      "execution_count": 34,
      "id": "bfca2790",
      "metadata": {
        "colab": {
          "base_uri": "https://localhost:8080/"
        },
        "id": "bfca2790",
        "outputId": "47d2bf3f-f239-47be-da86-eddd5f9187b7"
      },
      "outputs": [
        {
          "output_type": "execute_result",
          "data": {
            "text/plain": [
              "[1, 2, 4, 8, 16, 32, 64, 128, 256]"
            ]
          },
          "metadata": {},
          "execution_count": 34
        }
      ],
      "source": [
        "def powers_of_two(e):\n",
        "    p = 0\n",
        "    while p <= e:\n",
        "        yield 2 ** p\n",
        "        p += 1\n",
        "\n",
        "list(powers_of_two(8))"
      ]
    },
    {
      "cell_type": "markdown",
      "id": "f14876ab",
      "metadata": {
        "id": "f14876ab"
      },
      "source": [
        "### 7) Generator that reads a file line by line"
      ]
    },
    {
      "cell_type": "code",
      "execution_count": 35,
      "id": "16ec349f",
      "metadata": {
        "colab": {
          "base_uri": "https://localhost:8080/"
        },
        "id": "16ec349f",
        "outputId": "42ba05a4-b51c-42d9-84dc-1bbdcdcb1003"
      },
      "outputs": [
        {
          "output_type": "execute_result",
          "data": {
            "text/plain": [
              "['alpha', 'beta', 'gamma']"
            ]
          },
          "metadata": {},
          "execution_count": 35
        }
      ],
      "source": [
        "def read_lines(path):\n",
        "    with open(path, 'r', encoding='utf-8') as f:\n",
        "        for line in f:\n",
        "            yield line.rstrip('\\n')\n",
        "\n",
        "# Demo (creates a tiny file and reads it)\n",
        "demo_path = '/content/demo.txt'\n",
        "with open(demo_path, 'w', encoding='utf-8') as f:\n",
        "    f.write('alpha\\nbeta\\ngamma\\n')\n",
        "list(read_lines(demo_path))"
      ]
    },
    {
      "cell_type": "markdown",
      "id": "8108bd36",
      "metadata": {
        "id": "8108bd36"
      },
      "source": [
        "### 8) Sort list of tuples by second element using lambda"
      ]
    },
    {
      "cell_type": "code",
      "execution_count": 36,
      "id": "83debae2",
      "metadata": {
        "colab": {
          "base_uri": "https://localhost:8080/"
        },
        "id": "83debae2",
        "outputId": "7b94fe45-5837-4b8b-fc58-91265d70e3bd"
      },
      "outputs": [
        {
          "output_type": "execute_result",
          "data": {
            "text/plain": [
              "[('b', 1), ('c', 2), ('a', 3)]"
            ]
          },
          "metadata": {},
          "execution_count": 36
        }
      ],
      "source": [
        "pairs = [('a', 3), ('b', 1), ('c', 2)]\n",
        "sorted_pairs = sorted(pairs, key=lambda t: t[1])\n",
        "sorted_pairs"
      ]
    },
    {
      "cell_type": "markdown",
      "id": "70b3ce76",
      "metadata": {
        "id": "70b3ce76"
      },
      "source": [
        "### 9) Use `map()` to convert Celsius to Fahrenheit"
      ]
    },
    {
      "cell_type": "code",
      "execution_count": 37,
      "id": "1519e7da",
      "metadata": {
        "colab": {
          "base_uri": "https://localhost:8080/"
        },
        "id": "1519e7da",
        "outputId": "d61e96e8-2fad-4028-efa5-74f68d739313"
      },
      "outputs": [
        {
          "output_type": "execute_result",
          "data": {
            "text/plain": [
              "[32.0, 68.0, 98.6, 212.0]"
            ]
          },
          "metadata": {},
          "execution_count": 37
        }
      ],
      "source": [
        "def c_to_f(c):\n",
        "    return (c * 9/5) + 32\n",
        "\n",
        "celsius = [0, 20, 37, 100]\n",
        "fahrenheit = list(map(c_to_f, celsius))\n",
        "fahrenheit"
      ]
    },
    {
      "cell_type": "markdown",
      "id": "d84029de",
      "metadata": {
        "id": "d84029de"
      },
      "source": [
        "### 10) Use `filter()` to remove vowels from a string"
      ]
    },
    {
      "cell_type": "code",
      "execution_count": 38,
      "id": "890ef7ef",
      "metadata": {
        "colab": {
          "base_uri": "https://localhost:8080/",
          "height": 36
        },
        "id": "890ef7ef",
        "outputId": "57bd319c-7067-4670-b6a8-cd98fef07cbd"
      },
      "outputs": [
        {
          "output_type": "execute_result",
          "data": {
            "text/plain": [
              "'Btfl Dy'"
            ],
            "application/vnd.google.colaboratory.intrinsic+json": {
              "type": "string"
            }
          },
          "metadata": {},
          "execution_count": 38
        }
      ],
      "source": [
        "def remove_vowels(s):\n",
        "    vowels = set('aeiouAEIOU')\n",
        "    return ''.join(filter(lambda ch: ch not in vowels, s))\n",
        "\n",
        "remove_vowels('Beautiful Day')"
      ]
    },
    {
      "cell_type": "markdown",
      "id": "45437338",
      "metadata": {
        "id": "45437338"
      },
      "source": [
        "### 11) Book shop accounting using `lambda` and `map()`"
      ]
    },
    {
      "cell_type": "code",
      "execution_count": 39,
      "id": "9f12ea50",
      "metadata": {
        "colab": {
          "base_uri": "https://localhost:8080/"
        },
        "id": "9f12ea50",
        "outputId": "50849cf1-187f-4605-cd0b-c9e8ffac2daf"
      },
      "outputs": [
        {
          "output_type": "execute_result",
          "data": {
            "text/plain": [
              "[(1001, 50.95), (1002, 113.6), (1003, 108.85), (1004, 34.99)]"
            ]
          },
          "metadata": {},
          "execution_count": 39
        }
      ],
      "source": [
        "# Assuming each sublist: [order_number, price_per_item, quantity]\n",
        "\n",
        "# Return: list of (order_number, total_or_total_plus_surcharge)\n",
        "orders = [\n",
        "    [1001, 40.95, 1],\n",
        "    [1002, 56.80, 2],\n",
        "    [1003, 32.95, 3],\n",
        "    [1004, 24.99, 1],\n",
        "]\n",
        "\n",
        "compute_total = lambda o: (\n",
        "    o[0],\n",
        "    round((o[1]*o[2] if o[1]*o[2] >= 100 else o[1]*o[2] + 10), 2)\n",
        ")\n",
        "\n",
        "result = list(map(compute_total, orders))\n",
        "result"
      ]
    }
  ],
  "metadata": {
    "colab": {
      "provenance": []
    },
    "language_info": {
      "name": "python"
    },
    "kernelspec": {
      "name": "python3",
      "display_name": "Python 3"
    }
  },
  "nbformat": 4,
  "nbformat_minor": 5
}